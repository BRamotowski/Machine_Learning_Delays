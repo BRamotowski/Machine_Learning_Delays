{
 "cells": [
  {
   "cell_type": "code",
   "execution_count": 1,
   "metadata": {},
   "outputs": [],
   "source": [
    "import numpy as np\n",
    "import pandas as pd\n",
    "import seaborn as sns\n",
    "import matplotlib.pyplot as plt\n",
    "import missingno as msno \n",
    "import math\n",
    "from tqdm import tqdm\n",
    "from scipy.stats import uniform\n",
    "from sklearn.preprocessing import StandardScaler\n",
    "from sklearn.mixture import GaussianMixture\n",
    "from sklearn.model_selection import train_test_split\n",
    "from sklearn.linear_model import (\n",
    "    LinearRegression,\n",
    "    Lasso,\n",
    "    Ridge,\n",
    "    ElasticNet\n",
    ")\n",
    "import statsmodels.api as sm\n",
    "import statsmodels.formula.api as smf\n",
    "from sklearn.dummy import DummyRegressor\n",
    "from sklearn.model_selection import (\n",
    "    KFold,\n",
    "    ShuffleSplit,\n",
    "    cross_val_score,\n",
    "    cross_validate,\n",
    "    RandomizedSearchCV,\n",
    "    GridSearchCV\n",
    ")\n",
    "from sklearn.metrics import (\n",
    "    mean_squared_error,\n",
    "    mean_absolute_error,\n",
    "    median_absolute_error,\n",
    "    mean_absolute_percentage_error,\n",
    "    r2_score,\n",
    "    make_scorer\n",
    "    \n",
    ")\n",
    "from sklearn.ensemble import RandomForestRegressor\n",
    "from sklearn.impute import KNNImputer\n",
    "from sklearn.preprocessing import MinMaxScaler"
   ]
  },
  {
   "cell_type": "markdown",
   "metadata": {},
   "source": [
    "# --- train dataset prepare ---"
   ]
  },
  {
   "cell_type": "code",
   "execution_count": 2,
   "metadata": {},
   "outputs": [],
   "source": [
    "delay_reg = pd.read_csv(\"2024/delays_train.csv\")"
   ]
  },
  {
   "cell_type": "code",
   "execution_count": 3,
   "metadata": {},
   "outputs": [],
   "source": [
    "delay_reg=delay_reg[delay_reg['Arrival_Delay']<1900] "
   ]
  },
  {
   "cell_type": "code",
   "execution_count": 4,
   "metadata": {},
   "outputs": [],
   "source": [
    "delay_reg=delay_reg[delay_reg['Arrival_Delay']-delay_reg['Departure_Delay']>-61]\n",
    "delay_reg=delay_reg[delay_reg['Arrival_Delay']-delay_reg['Departure_Delay']<120]"
   ]
  },
  {
   "cell_type": "code",
   "execution_count": 5,
   "metadata": {},
   "outputs": [],
   "source": [
    "delay_time=delay_reg.copy()\n",
    "delay_time['Scheduled_Departure_Time_min']=delay_time['Scheduled_Departure_Time']%100+np.floor(delay_time['Scheduled_Departure_Time']/100)*60\n",
    "delay_time['Actual_Departure_Time_min']=delay_time['Actual_Departure_Time']%100+np.floor(delay_time['Actual_Departure_Time']/100)*60\n",
    "delay_time['Departure_Delay_fornan']=delay_time['Actual_Departure_Time_min']-delay_time['Scheduled_Departure_Time_min']"
   ]
  },
  {
   "cell_type": "code",
   "execution_count": 6,
   "metadata": {},
   "outputs": [],
   "source": [
    "def custom_function(x):\n",
    "    if x < -62: return 24 * 60 + x\n",
    "    else: return x        \n",
    "delay_time['Departure_Delay_fornan'] = delay_time['Departure_Delay_fornan'].apply(custom_function)"
   ]
  },
  {
   "cell_type": "code",
   "execution_count": 7,
   "metadata": {},
   "outputs": [],
   "source": [
    "delay_reg['Departure_Delay'].fillna(delay_time['Departure_Delay_fornan'],inplace=True)"
   ]
  },
  {
   "cell_type": "code",
   "execution_count": 8,
   "metadata": {},
   "outputs": [],
   "source": [
    "delay_reg['Destination_Wind_Speed'] = delay_reg.groupby(by = ['Month_of_Year','Arrival_State'])['Destination_Wind_Speed'].transform(lambda x: x.fillna(x.median()))\n",
    "delay_reg['Origin_Wind_Speed'] = delay_reg.groupby(by = ['Month_of_Year','Arrival_State'])['Origin_Wind_Speed'].transform(lambda x: x.fillna(x.median()))"
   ]
  },
  {
   "cell_type": "code",
   "execution_count": 9,
   "metadata": {},
   "outputs": [],
   "source": [
    "delay_reg=delay_reg[['Arrival_Delay','Departure_Delay', 'Taxi_Out_Time',\n",
    "        'Taxi_In_Time','Origin_Wind_Speed','Destination_Wind_Speed']].copy()"
   ]
  },
  {
   "cell_type": "code",
   "execution_count": 10,
   "metadata": {},
   "outputs": [],
   "source": [
    "features=['Departure_Delay', 'Taxi_Out_Time',\n",
    "        'Taxi_In_Time','Origin_Wind_Speed','Destination_Wind_Speed']"
   ]
  },
  {
   "cell_type": "code",
   "execution_count": 11,
   "metadata": {},
   "outputs": [],
   "source": [
    "x_delay=delay_reg[features].copy()\n",
    "y_delay=delay_reg[['Arrival_Delay']].copy()"
   ]
  },
  {
   "cell_type": "markdown",
   "metadata": {},
   "source": [
    "# --- test datast preapre ---"
   ]
  },
  {
   "cell_type": "code",
   "execution_count": 12,
   "metadata": {},
   "outputs": [],
   "source": [
    "delay_test = pd.read_csv(\"2024/delays_test.csv\")"
   ]
  },
  {
   "cell_type": "code",
   "execution_count": 13,
   "metadata": {},
   "outputs": [],
   "source": [
    "delay_test['ID']=range(0, len(delay_test))"
   ]
  },
  {
   "cell_type": "code",
   "execution_count": 15,
   "metadata": {},
   "outputs": [],
   "source": [
    "delay_test=delay_test[delay_test['Flight_Cancelled']==False]"
   ]
  },
  {
   "cell_type": "code",
   "execution_count": 16,
   "metadata": {},
   "outputs": [],
   "source": [
    "delay_time=delay_test.copy()\n",
    "delay_time['Scheduled_Departure_Time_min']=delay_time['Scheduled_Departure_Time']%100+np.floor(delay_time['Scheduled_Departure_Time']/100)*60\n",
    "delay_time['Actual_Departure_Time_min']=delay_time['Actual_Departure_Time']%100+np.floor(delay_time['Actual_Departure_Time']/100)*60\n",
    "delay_time['Departure_Delay_fornan']=delay_time['Actual_Departure_Time_min']-delay_time['Scheduled_Departure_Time_min']"
   ]
  },
  {
   "cell_type": "code",
   "execution_count": 17,
   "metadata": {},
   "outputs": [],
   "source": [
    "def custom_function(x):\n",
    "    if x < -62: return 24 * 60 + x\n",
    "    else: return x        \n",
    "delay_time['Departure_Delay_fornan'] = delay_time['Departure_Delay_fornan'].apply(custom_function)"
   ]
  },
  {
   "cell_type": "code",
   "execution_count": null,
   "metadata": {},
   "outputs": [],
   "source": [
    "delay_test['Departure_Delay'].fillna(delay_time['Departure_Delay_fornan'],inplace=True)"
   ]
  },
  {
   "cell_type": "code",
   "execution_count": 19,
   "metadata": {},
   "outputs": [],
   "source": [
    "delay_test=delay_test[delay_test['Taxi_In_Time'].isna()==False]"
   ]
  },
  {
   "cell_type": "code",
   "execution_count": 20,
   "metadata": {},
   "outputs": [],
   "source": [
    "delay_test['Destination_Wind_Speed'] = delay_test.groupby(by = [ 'Month_of_Year','Arrival_State'])['Destination_Wind_Speed'].transform(lambda x: x.fillna(x.median()))\n",
    "delay_test['Origin_Wind_Speed'] = delay_test.groupby(by = [ 'Month_of_Year','Arrival_State'])['Origin_Wind_Speed'].transform(lambda x: x.fillna(x.median()))"
   ]
  },
  {
   "cell_type": "code",
   "execution_count": 21,
   "metadata": {},
   "outputs": [],
   "source": [
    "delay_test=delay_test[['Departure_Delay', 'Taxi_Out_Time',\n",
    "        'Taxi_In_Time','Origin_Wind_Speed','Destination_Wind_Speed','ID']].copy()"
   ]
  },
  {
   "cell_type": "markdown",
   "metadata": {},
   "source": [
    "# --- model ---"
   ]
  },
  {
   "cell_type": "code",
   "execution_count": 23,
   "metadata": {},
   "outputs": [],
   "source": [
    "reg = LinearRegression(fit_intercept=True)\n",
    "reg.fit(X=x_delay,y=y_delay)\n",
    "y_pred=reg.predict(X=delay_test[['Departure_Delay', 'Taxi_Out_Time',\n",
    "        'Taxi_In_Time','Origin_Wind_Speed','Destination_Wind_Speed']])"
   ]
  },
  {
   "cell_type": "code",
   "execution_count": 24,
   "metadata": {},
   "outputs": [],
   "source": [
    "delay_test['Arrival_Delay_pred']=y_pred"
   ]
  },
  {
   "cell_type": "code",
   "execution_count": 25,
   "metadata": {},
   "outputs": [],
   "source": [
    "final_res=delay_test[['ID','Arrival_Delay_pred']]"
   ]
  },
  {
   "cell_type": "code",
   "execution_count": 26,
   "metadata": {},
   "outputs": [],
   "source": [
    "final_res.to_csv(\"delay_results.csv\")"
   ]
  }
 ],
 "metadata": {
  "kernelspec": {
   "display_name": "Python 3",
   "language": "python",
   "name": "python3"
  },
  "language_info": {
   "codemirror_mode": {
    "name": "ipython",
    "version": 3
   },
   "file_extension": ".py",
   "mimetype": "text/x-python",
   "name": "python",
   "nbconvert_exporter": "python",
   "pygments_lexer": "ipython3",
   "version": "3.11.9"
  }
 },
 "nbformat": 4,
 "nbformat_minor": 2
}
